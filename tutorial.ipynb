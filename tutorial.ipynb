{
 "cells": [
  {
   "cell_type": "markdown",
   "metadata": {},
   "source": [
    "\n",
    "\n",
    "__Set your own route planner for a given OSM map and GTFS file and query server on localhost for a detailed routes__\n",
    "\n",
    "\n",
    "### OTP walkthrough\n",
    "\n",
    "from: http://docs.opentripplanner.org/en/latest/Basic-Tutorial/\n",
    "\n",
    "1. Install Java SDK\n",
    "2. Download [latest](https://repo1.maven.org/maven2/org/opentripplanner/otp/1.4.0/otp-1.4.0-shaded.jar) .jar from [Maven](https://repo1.maven.org/maven2/org/opentripplanner/otp/1.4.0/)\n",
    "3. Download gtfs.zip of a given city into a `folder` from `transit.land`\n",
    "4. Download osm.pgf of your area from [here](https://www.interline.io/osm/extracts/) (need to login to get API token)\n",
    "5. call from terminal `java -Xmx6G -jar otp-1.4.0-shaded.jar --build data_path --inMemory` changing `6G` as memory allocated (6GB) and `data_path` to your path with osm and gtfs files\n",
    "6. if succesful you shall be able to open a web search in your browser: `http://localhost:8080/`\n",
    "7. and query it via API, for instance: 'http://localhost:8080/otp/routers/default/plan?fromPlace=52.25177%2C20.92758&toPlace=52.20550%2C21.00517&time=1%3A02pm&date=04-09-2020&mode=TRANSIT%2CWALK&maxWalkDistance=5000&arriveBy=false'\n"
   ]
  },
  {
   "cell_type": "code",
   "execution_count": 1,
   "metadata": {},
   "outputs": [],
   "source": [
    "import pandas as pd\n",
    "import requests"
   ]
  },
  {
   "cell_type": "markdown",
   "metadata": {},
   "source": [
    "local imports"
   ]
  },
  {
   "cell_type": "code",
   "execution_count": 2,
   "metadata": {},
   "outputs": [],
   "source": [
    "from main import make_query, parse_OTP_response\n",
    "from utils import plot"
   ]
  },
  {
   "cell_type": "markdown",
   "metadata": {},
   "source": [
    "set up"
   ]
  },
  {
   "cell_type": "code",
   "execution_count": 3,
   "metadata": {},
   "outputs": [],
   "source": [
    "PATH = 'georequests.csv'\n",
    "OTP_API = \"http://localhost:8080/otp/routers/default/plan\""
   ]
  },
  {
   "cell_type": "markdown",
   "metadata": {},
   "source": [
    "input"
   ]
  },
  {
   "cell_type": "code",
   "execution_count": 4,
   "metadata": {},
   "outputs": [
    {
     "data": {
      "text/html": [
       "<div>\n",
       "<style scoped>\n",
       "    .dataframe tbody tr th:only-of-type {\n",
       "        vertical-align: middle;\n",
       "    }\n",
       "\n",
       "    .dataframe tbody tr th {\n",
       "        vertical-align: top;\n",
       "    }\n",
       "\n",
       "    .dataframe thead th {\n",
       "        text-align: right;\n",
       "    }\n",
       "</style>\n",
       "<table border=\"1\" class=\"dataframe\">\n",
       "  <thead>\n",
       "    <tr style=\"text-align: right;\">\n",
       "      <th></th>\n",
       "      <th>origin_x</th>\n",
       "      <th>origin_y</th>\n",
       "      <th>destination_x</th>\n",
       "      <th>destination_y</th>\n",
       "      <th>treq</th>\n",
       "    </tr>\n",
       "  </thead>\n",
       "  <tbody>\n",
       "    <tr>\n",
       "      <th>923</th>\n",
       "      <td>4.919858</td>\n",
       "      <td>52.354815</td>\n",
       "      <td>4.876652</td>\n",
       "      <td>52.362379</td>\n",
       "      <td>2020-10-29 14:33:05</td>\n",
       "    </tr>\n",
       "    <tr>\n",
       "      <th>944</th>\n",
       "      <td>4.956360</td>\n",
       "      <td>52.397104</td>\n",
       "      <td>4.872823</td>\n",
       "      <td>52.366161</td>\n",
       "      <td>2020-10-29 14:30:04</td>\n",
       "    </tr>\n",
       "    <tr>\n",
       "      <th>174</th>\n",
       "      <td>4.886725</td>\n",
       "      <td>52.383804</td>\n",
       "      <td>4.882440</td>\n",
       "      <td>52.370075</td>\n",
       "      <td>2020-10-29 14:58:38</td>\n",
       "    </tr>\n",
       "    <tr>\n",
       "      <th>175</th>\n",
       "      <td>4.780391</td>\n",
       "      <td>52.359392</td>\n",
       "      <td>4.884474</td>\n",
       "      <td>52.361284</td>\n",
       "      <td>2020-10-29 15:09:21</td>\n",
       "    </tr>\n",
       "    <tr>\n",
       "      <th>447</th>\n",
       "      <td>4.859886</td>\n",
       "      <td>52.344896</td>\n",
       "      <td>4.877036</td>\n",
       "      <td>52.366819</td>\n",
       "      <td>2020-10-29 14:47:48</td>\n",
       "    </tr>\n",
       "  </tbody>\n",
       "</table>\n",
       "</div>"
      ],
      "text/plain": [
       "     origin_x   origin_y  destination_x  destination_y                treq\n",
       "923  4.919858  52.354815       4.876652      52.362379 2020-10-29 14:33:05\n",
       "944  4.956360  52.397104       4.872823      52.366161 2020-10-29 14:30:04\n",
       "174  4.886725  52.383804       4.882440      52.370075 2020-10-29 14:58:38\n",
       "175  4.780391  52.359392       4.884474      52.361284 2020-10-29 15:09:21\n",
       "447  4.859886  52.344896       4.877036      52.366819 2020-10-29 14:47:48"
      ]
     },
     "execution_count": 4,
     "metadata": {},
     "output_type": "execute_result"
    }
   ],
   "source": [
    "df = pd.read_csv(PATH, index_col=[0])  # load the csv\n",
    "df.treq = pd.to_datetime(df.treq)\n",
    "df.sample(5)[['origin_x','origin_y','destination_x','destination_y','treq']]"
   ]
  },
  {
   "cell_type": "code",
   "execution_count": 5,
   "metadata": {},
   "outputs": [],
   "source": [
    "df1 = pd.DataFrame(columns=['origin_x','origin_y','destination_x','destination_y','treq'])\n",
    "df1['origin_x'] = [16.89423, 16.91294, 16.94984]\n",
    "df1['origin_y'] = [52.40504, 52.42797, 52.41404]\n",
    "\n",
    "df1['destination_x'] = [16.94984, 16.92324, 16.88410]\n",
    "df1['destination_y'] = [52.40619, 52.39833, 52.36973]\n",
    "\n",
    "df1['treq'] = pd.Timestamp(2023, 3, 7, 12)\n",
    "\n",
    "df =df1"
   ]
  },
  {
   "cell_type": "markdown",
   "metadata": {},
   "source": [
    "sample query (before you can query the server you need to run it -see run OTP server.ipynb in this folder)\n",
    "\n",
    "[query synthax](http://dev.opentripplanner.org/apidoc/1.0.0/resource_PlannerResource.html)  \n",
    "[response json structure](http://dev.opentripplanner.org/apidoc/1.0.0/json_Response.html)"
   ]
  },
  {
   "cell_type": "code",
   "execution_count": 6,
   "metadata": {
    "tags": []
   },
   "outputs": [
    {
     "data": {
      "text/plain": [
       "{'success': True,\n",
       " 'n_itineraries': 3,\n",
       " 'duration': 1904,\n",
       " 'walkDistance': 899.6474060001171,\n",
       " 'transfers': 1,\n",
       " 'transitTime': 1140,\n",
       " 'waitingTime': 2,\n",
       " 'modes': [['WALK', 400, 470],\n",
       "  ['TRAM', 840, 3768],\n",
       "  ['TRAM', 300, 1390],\n",
       "  ['WALK', 362, 428]]}"
      ]
     },
     "execution_count": 6,
     "metadata": {},
     "output_type": "execute_result"
    }
   ],
   "source": [
    "row = df.sample(1).squeeze()\n",
    "query = make_query(row)\n",
    "r = requests.get(OTP_API, params=query)\n",
    "route = parse_OTP_response(r.json())\n",
    "route"
   ]
  },
  {
   "cell_type": "markdown",
   "metadata": {},
   "source": [
    "#### visualization"
   ]
  },
  {
   "cell_type": "code",
   "execution_count": 47,
   "metadata": {},
   "outputs": [
    {
     "name": "stdout",
     "output_type": "stream",
     "text": [
      "Trip from (16.8942,52.4050) to (16.9498,52.4062) at 1678186800000. \n",
      "3 connections found. \n",
      "Best one is 32min (1038m walk, 0 transfer(s), wait time 0.03min)\n",
      "\n",
      "LEG \t MODE \tDIST \tTIME\n",
      "-----------------------------\n",
      "1\tWALK\t438\t361\n",
      "2\tTRAM\t5010\t1080\n",
      "3\tWALK\t600\t496\n"
     ]
    },
    {
     "data": {
      "text/html": [
       "<div style=\"width:100%;\"><div style=\"position:relative;width:100%;height:0;padding-bottom:60%;\"><span style=\"color:#565656\">Make this Notebook Trusted to load map: File -> Trust Notebook</span><iframe src=\"about:blank\" style=\"position:absolute;width:100%;height:100%;left:0;top:0;border:none !important;\" data-html=%3C%21DOCTYPE%20html%3E%0A%3Chead%3E%20%20%20%20%0A%20%20%20%20%3Cmeta%20http-equiv%3D%22content-type%22%20content%3D%22text/html%3B%20charset%3DUTF-8%22%20/%3E%0A%20%20%20%20%0A%20%20%20%20%20%20%20%20%3Cscript%3E%0A%20%20%20%20%20%20%20%20%20%20%20%20L_NO_TOUCH%20%3D%20false%3B%0A%20%20%20%20%20%20%20%20%20%20%20%20L_DISABLE_3D%20%3D%20false%3B%0A%20%20%20%20%20%20%20%20%3C/script%3E%0A%20%20%20%20%0A%20%20%20%20%3Cstyle%3Ehtml%2C%20body%20%7Bwidth%3A%20100%25%3Bheight%3A%20100%25%3Bmargin%3A%200%3Bpadding%3A%200%3B%7D%3C/style%3E%0A%20%20%20%20%3Cstyle%3E%23map%20%7Bposition%3Aabsolute%3Btop%3A0%3Bbottom%3A0%3Bright%3A0%3Bleft%3A0%3B%7D%3C/style%3E%0A%20%20%20%20%3Cscript%20src%3D%22https%3A//cdn.jsdelivr.net/npm/leaflet%401.6.0/dist/leaflet.js%22%3E%3C/script%3E%0A%20%20%20%20%3Cscript%20src%3D%22https%3A//code.jquery.com/jquery-1.12.4.min.js%22%3E%3C/script%3E%0A%20%20%20%20%3Cscript%20src%3D%22https%3A//maxcdn.bootstrapcdn.com/bootstrap/3.2.0/js/bootstrap.min.js%22%3E%3C/script%3E%0A%20%20%20%20%3Cscript%20src%3D%22https%3A//cdnjs.cloudflare.com/ajax/libs/Leaflet.awesome-markers/2.0.2/leaflet.awesome-markers.js%22%3E%3C/script%3E%0A%20%20%20%20%3Clink%20rel%3D%22stylesheet%22%20href%3D%22https%3A//cdn.jsdelivr.net/npm/leaflet%401.6.0/dist/leaflet.css%22/%3E%0A%20%20%20%20%3Clink%20rel%3D%22stylesheet%22%20href%3D%22https%3A//maxcdn.bootstrapcdn.com/bootstrap/3.2.0/css/bootstrap.min.css%22/%3E%0A%20%20%20%20%3Clink%20rel%3D%22stylesheet%22%20href%3D%22https%3A//maxcdn.bootstrapcdn.com/bootstrap/3.2.0/css/bootstrap-theme.min.css%22/%3E%0A%20%20%20%20%3Clink%20rel%3D%22stylesheet%22%20href%3D%22https%3A//maxcdn.bootstrapcdn.com/font-awesome/4.6.3/css/font-awesome.min.css%22/%3E%0A%20%20%20%20%3Clink%20rel%3D%22stylesheet%22%20href%3D%22https%3A//cdnjs.cloudflare.com/ajax/libs/Leaflet.awesome-markers/2.0.2/leaflet.awesome-markers.css%22/%3E%0A%20%20%20%20%3Clink%20rel%3D%22stylesheet%22%20href%3D%22https%3A//cdn.jsdelivr.net/gh/python-visualization/folium/folium/templates/leaflet.awesome.rotate.min.css%22/%3E%0A%20%20%20%20%0A%20%20%20%20%20%20%20%20%20%20%20%20%3Cmeta%20name%3D%22viewport%22%20content%3D%22width%3Ddevice-width%2C%0A%20%20%20%20%20%20%20%20%20%20%20%20%20%20%20%20initial-scale%3D1.0%2C%20maximum-scale%3D1.0%2C%20user-scalable%3Dno%22%20/%3E%0A%20%20%20%20%20%20%20%20%20%20%20%20%3Cstyle%3E%0A%20%20%20%20%20%20%20%20%20%20%20%20%20%20%20%20%23map_48bb96b96748468f832283fbee17be92%20%7B%0A%20%20%20%20%20%20%20%20%20%20%20%20%20%20%20%20%20%20%20%20position%3A%20relative%3B%0A%20%20%20%20%20%20%20%20%20%20%20%20%20%20%20%20%20%20%20%20width%3A%20100.0%25%3B%0A%20%20%20%20%20%20%20%20%20%20%20%20%20%20%20%20%20%20%20%20height%3A%20100.0%25%3B%0A%20%20%20%20%20%20%20%20%20%20%20%20%20%20%20%20%20%20%20%20left%3A%200.0%25%3B%0A%20%20%20%20%20%20%20%20%20%20%20%20%20%20%20%20%20%20%20%20top%3A%200.0%25%3B%0A%20%20%20%20%20%20%20%20%20%20%20%20%20%20%20%20%7D%0A%20%20%20%20%20%20%20%20%20%20%20%20%3C/style%3E%0A%20%20%20%20%20%20%20%20%0A%3C/head%3E%0A%3Cbody%3E%20%20%20%20%0A%20%20%20%20%0A%20%20%20%20%20%20%20%20%20%20%20%20%3Cdiv%20class%3D%22folium-map%22%20id%3D%22map_48bb96b96748468f832283fbee17be92%22%20%3E%3C/div%3E%0A%20%20%20%20%20%20%20%20%0A%3C/body%3E%0A%3Cscript%3E%20%20%20%20%0A%20%20%20%20%0A%20%20%20%20%20%20%20%20%20%20%20%20var%20map_48bb96b96748468f832283fbee17be92%20%3D%20L.map%28%0A%20%20%20%20%20%20%20%20%20%20%20%20%20%20%20%20%22map_48bb96b96748468f832283fbee17be92%22%2C%0A%20%20%20%20%20%20%20%20%20%20%20%20%20%20%20%20%7B%0A%20%20%20%20%20%20%20%20%20%20%20%20%20%20%20%20%20%20%20%20center%3A%20%5B52.405615%2C%2016.922035%5D%2C%0A%20%20%20%20%20%20%20%20%20%20%20%20%20%20%20%20%20%20%20%20crs%3A%20L.CRS.EPSG3857%2C%0A%20%20%20%20%20%20%20%20%20%20%20%20%20%20%20%20%20%20%20%20zoom%3A%2013%2C%0A%20%20%20%20%20%20%20%20%20%20%20%20%20%20%20%20%20%20%20%20zoomControl%3A%20true%2C%0A%20%20%20%20%20%20%20%20%20%20%20%20%20%20%20%20%20%20%20%20preferCanvas%3A%20false%2C%0A%20%20%20%20%20%20%20%20%20%20%20%20%20%20%20%20%7D%0A%20%20%20%20%20%20%20%20%20%20%20%20%29%3B%0A%20%20%20%20%20%20%20%20%20%20%20%20L.control.scale%28%29.addTo%28map_48bb96b96748468f832283fbee17be92%29%3B%0A%0A%20%20%20%20%20%20%20%20%20%20%20%20%0A%0A%20%20%20%20%20%20%20%20%0A%20%20%20%20%0A%20%20%20%20%20%20%20%20%20%20%20%20var%20tile_layer_0bf398c19ffd4c1b81ebf7a8934c109c%20%3D%20L.tileLayer%28%0A%20%20%20%20%20%20%20%20%20%20%20%20%20%20%20%20%22https%3A//tile.thunderforest.com/transport/%7Bz%7D/%7Bx%7D/%7By%7D.png%3Fapikey%3D54d9f38859864044ae1906a121f1e942%22%2C%0A%20%20%20%20%20%20%20%20%20%20%20%20%20%20%20%20%7B%22attribution%22%3A%20%22toner-bcg%22%2C%20%22detectRetina%22%3A%20false%2C%20%22maxNativeZoom%22%3A%2018%2C%20%22maxZoom%22%3A%2018%2C%20%22minZoom%22%3A%200%2C%20%22noWrap%22%3A%20false%2C%20%22opacity%22%3A%201%2C%20%22subdomains%22%3A%20%22abc%22%2C%20%22tms%22%3A%20false%7D%0A%20%20%20%20%20%20%20%20%20%20%20%20%29.addTo%28map_48bb96b96748468f832283fbee17be92%29%3B%0A%20%20%20%20%20%20%20%20%0A%20%20%20%20%0A%20%20%20%20%20%20%20%20%20%20%20%20var%20circle_marker_34f02acc22e44da399210899f97d7c70%20%3D%20L.circleMarker%28%0A%20%20%20%20%20%20%20%20%20%20%20%20%20%20%20%20%5B52.40523%2C%2016.89421%5D%2C%0A%20%20%20%20%20%20%20%20%20%20%20%20%20%20%20%20%7B%22bubblingMouseEvents%22%3A%20true%2C%20%22color%22%3A%20%22green%22%2C%20%22dashArray%22%3A%20null%2C%20%22dashOffset%22%3A%20null%2C%20%22fill%22%3A%20false%2C%20%22fillColor%22%3A%20%22green%22%2C%20%22fillOpacity%22%3A%200.2%2C%20%22fillRule%22%3A%20%22evenodd%22%2C%20%22lineCap%22%3A%20%22round%22%2C%20%22lineJoin%22%3A%20%22round%22%2C%20%22opacity%22%3A%200.7%2C%20%22radius%22%3A%205%2C%20%22stroke%22%3A%20true%2C%20%22weight%22%3A%203%7D%0A%20%20%20%20%20%20%20%20%20%20%20%20%29.addTo%28map_48bb96b96748468f832283fbee17be92%29%3B%0A%20%20%20%20%20%20%20%20%0A%20%20%20%20%0A%20%20%20%20%20%20%20%20%20%20%20%20var%20circle_marker_33515e8f819949809260cec122687c2a%20%3D%20L.circleMarker%28%0A%20%20%20%20%20%20%20%20%20%20%20%20%20%20%20%20%5B52.40523%2C%2016.89939%5D%2C%0A%20%20%20%20%20%20%20%20%20%20%20%20%20%20%20%20%7B%22bubblingMouseEvents%22%3A%20true%2C%20%22color%22%3A%20%22green%22%2C%20%22dashArray%22%3A%20null%2C%20%22dashOffset%22%3A%20null%2C%20%22fill%22%3A%20false%2C%20%22fillColor%22%3A%20%22green%22%2C%20%22fillOpacity%22%3A%200.2%2C%20%22fillRule%22%3A%20%22evenodd%22%2C%20%22lineCap%22%3A%20%22round%22%2C%20%22lineJoin%22%3A%20%22round%22%2C%20%22opacity%22%3A%200.7%2C%20%22radius%22%3A%205%2C%20%22stroke%22%3A%20true%2C%20%22weight%22%3A%203%7D%0A%20%20%20%20%20%20%20%20%20%20%20%20%29.addTo%28map_48bb96b96748468f832283fbee17be92%29%3B%0A%20%20%20%20%20%20%20%20%0A%20%20%20%20%0A%20%20%20%20%20%20%20%20%20%20%20%20var%20circle_marker_f911b1d4d40840c7a7673fc02af86eac%20%3D%20L.circleMarker%28%0A%20%20%20%20%20%20%20%20%20%20%20%20%20%20%20%20%5B52.40376%2C%2016.95436%5D%2C%0A%20%20%20%20%20%20%20%20%20%20%20%20%20%20%20%20%7B%22bubblingMouseEvents%22%3A%20true%2C%20%22color%22%3A%20%22green%22%2C%20%22dashArray%22%3A%20null%2C%20%22dashOffset%22%3A%20null%2C%20%22fill%22%3A%20false%2C%20%22fillColor%22%3A%20%22green%22%2C%20%22fillOpacity%22%3A%200.2%2C%20%22fillRule%22%3A%20%22evenodd%22%2C%20%22lineCap%22%3A%20%22round%22%2C%20%22lineJoin%22%3A%20%22round%22%2C%20%22opacity%22%3A%200.7%2C%20%22radius%22%3A%205%2C%20%22stroke%22%3A%20true%2C%20%22weight%22%3A%203%7D%0A%20%20%20%20%20%20%20%20%20%20%20%20%29.addTo%28map_48bb96b96748468f832283fbee17be92%29%3B%0A%20%20%20%20%20%20%20%20%0A%20%20%20%20%0A%20%20%20%20%20%20%20%20%20%20%20%20var%20poly_line_0a649ba7f71a45ef8a27cdc63b36e3f3%20%3D%20L.polyline%28%0A%20%20%20%20%20%20%20%20%20%20%20%20%20%20%20%20%5B%5B52.40523%2C%2016.89421%5D%2C%20%5B52.40526%2C%2016.89503%5D%2C%20%5B52.40529%2C%2016.89562%5D%2C%20%5B52.40541%2C%2016.89739%5D%2C%20%5B52.40542%2C%2016.89763%5D%2C%20%5B52.40536%2C%2016.89768%5D%2C%20%5B52.40505%2C%2016.89791%5D%2C%20%5B52.405%2C%2016.89794%5D%2C%20%5B52.40495%2C%2016.89798%5D%2C%20%5B52.40498%2C%2016.89809%5D%2C%20%5B52.40501%2C%2016.89817%5D%2C%20%5B52.40508%2C%2016.89842%5D%2C%20%5B52.40522%2C%2016.89895%5D%2C%20%5B52.40538%2C%2016.89955%5D%2C%20%5B52.40534%2C%2016.89958%5D%2C%20%5B52.40532%2C%2016.8996%5D%2C%20%5B52.40531%2C%2016.8996%5D%2C%20%5B52.40529%2C%2016.89962%5D%2C%20%5B52.40526%2C%2016.89953%5D%2C%20%5B52.40525%2C%2016.89954%5D%2C%20%5B52.40524%2C%2016.89952%5D%2C%20%5B52.40523%2C%2016.89946%5D%2C%20%5B52.40521%2C%2016.89941%5D%2C%20%5B52.40523%2C%2016.89939%5D%2C%20%5B52.40526%2C%2016.89947%5D%2C%20%5B52.40558%2C%2016.90037%5D%2C%20%5B52.40577%2C%2016.90098%5D%2C%20%5B52.40584%2C%2016.90133%5D%2C%20%5B52.40599%2C%2016.90204%5D%2C%20%5B52.40625%2C%2016.90322%5D%2C%20%5B52.40639%2C%2016.90394%5D%2C%20%5B52.40651%2C%2016.90486%5D%2C%20%5B52.40663%2C%2016.90604%5D%2C%20%5B52.40672%2C%2016.90774%5D%2C%20%5B52.40672%2C%2016.9083%5D%2C%20%5B52.4067%2C%2016.90868%5D%2C%20%5B52.40661%2C%2016.90964%5D%2C%20%5B52.40654%2C%2016.91042%5D%2C%20%5B52.40653%2C%2016.91054%5D%2C%20%5B52.40651%2C%2016.91082%5D%2C%20%5B52.40651%2C%2016.91106%5D%2C%20%5B52.40651%2C%2016.91118%5D%2C%20%5B52.40651%2C%2016.91149%5D%2C%20%5B52.40649%2C%2016.91169%5D%2C%20%5B52.40647%2C%2016.91182%5D%2C%20%5B52.40644%2C%2016.91202%5D%2C%20%5B52.40617%2C%2016.9119%5D%2C%20%5B52.40599%2C%2016.91182%5D%2C%20%5B52.40542%2C%2016.9116%5D%2C%20%5B52.40448%2C%2016.91125%5D%2C%20%5B52.40417%2C%2016.91112%5D%2C%20%5B52.40399%2C%2016.91105%5D%2C%20%5B52.40393%2C%2016.91103%5D%2C%20%5B52.40372%2C%2016.91094%5D%2C%20%5B52.40357%2C%2016.91088%5D%2C%20%5B52.40354%2C%2016.91116%5D%2C%20%5B52.40322%2C%2016.91354%5D%2C%20%5B52.40308%2C%2016.91445%5D%2C%20%5B52.403%2C%2016.91495%5D%2C%20%5B52.40299%2C%2016.91502%5D%2C%20%5B52.40296%2C%2016.91519%5D%2C%20%5B52.4029%2C%2016.91553%5D%2C%20%5B52.4027%2C%2016.91652%5D%2C%20%5B52.40263%2C%2016.91686%5D%2C%20%5B52.40239%2C%2016.9178%5D%2C%20%5B52.40198%2C%2016.9199%5D%2C%20%5B52.4018%2C%2016.92075%5D%2C%20%5B52.40176%2C%2016.92094%5D%2C%20%5B52.40175%2C%2016.92099%5D%2C%20%5B52.40172%2C%2016.92112%5D%2C%20%5B52.40162%2C%2016.92171%5D%2C%20%5B52.40154%2C%2016.9221%5D%2C%20%5B52.40129%2C%2016.92283%5D%2C%20%5B52.40101%2C%2016.92341%5D%2C%20%5B52.40057%2C%2016.92422%5D%2C%20%5B52.4004%2C%2016.92468%5D%2C%20%5B52.40029%2C%2016.92524%5D%2C%20%5B52.40008%2C%2016.92682%5D%2C%20%5B52.4%2C%2016.92739%5D%2C%20%5B52.39996%2C%2016.92779%5D%2C%20%5B52.39992%2C%2016.92807%5D%2C%20%5B52.39991%2C%2016.92815%5D%2C%20%5B52.39989%2C%2016.92837%5D%2C%20%5B52.39953%2C%2016.9316%5D%2C%20%5B52.39927%2C%2016.93392%5D%2C%20%5B52.39919%2C%2016.93463%5D%2C%20%5B52.39913%2C%2016.9353%5D%2C%20%5B52.39905%2C%2016.93598%5D%2C%20%5B52.39904%2C%2016.93603%5D%2C%20%5B52.39893%2C%2016.93677%5D%2C%20%5B52.39885%2C%2016.93725%5D%2C%20%5B52.39873%2C%2016.9378%5D%2C%20%5B52.39774%2C%2016.94202%5D%2C%20%5B52.39715%2C%2016.94452%5D%2C%20%5B52.39709%2C%2016.94478%5D%2C%20%5B52.39699%2C%2016.94516%5D%2C%20%5B52.3969%2C%2016.94556%5D%2C%20%5B52.39684%2C%2016.94578%5D%2C%20%5B52.39647%2C%2016.94742%5D%2C%20%5B52.39619%2C%2016.94853%5D%2C%20%5B52.39608%2C%2016.94893%5D%2C%20%5B52.39604%2C%2016.94909%5D%2C%20%5B52.39602%2C%2016.94915%5D%2C%20%5B52.3959%2C%2016.94955%5D%2C%20%5B52.39565%2C%2016.95033%5D%2C%20%5B52.39601%2C%2016.95053%5D%2C%20%5B52.39615%2C%2016.95061%5D%2C%20%5B52.39625%2C%2016.95067%5D%2C%20%5B52.39636%2C%2016.95073%5D%2C%20%5B52.39651%2C%2016.95081%5D%2C%20%5B52.39663%2C%2016.95089%5D%2C%20%5B52.39724%2C%2016.95126%5D%2C%20%5B52.39784%2C%2016.95163%5D%2C%20%5B52.39879%2C%2016.95212%5D%2C%20%5B52.39887%2C%2016.95216%5D%2C%20%5B52.3989%2C%2016.95222%5D%2C%20%5B52.39903%2C%2016.95228%5D%2C%20%5B52.39932%2C%2016.95245%5D%2C%20%5B52.39957%2C%2016.95259%5D%2C%20%5B52.39984%2C%2016.95276%5D%2C%20%5B52.40049%2C%2016.95319%5D%2C%20%5B52.40154%2C%2016.95399%5D%2C%20%5B52.40207%2C%2016.95431%5D%2C%20%5B52.40256%2C%2016.95447%5D%2C%20%5B52.40291%2C%2016.95449%5D%2C%20%5B52.40345%2C%2016.95439%5D%2C%20%5B52.40371%2C%2016.9543%5D%2C%20%5B52.40375%2C%2016.95428%5D%2C%20%5B52.40376%2C%2016.95436%5D%2C%20%5B52.40372%2C%2016.95438%5D%2C%20%5B52.40369%2C%2016.9544%5D%2C%20%5B52.40366%2C%2016.9544%5D%2C%20%5B52.40366%2C%2016.95438%5D%2C%20%5B52.40365%2C%2016.95433%5D%2C%20%5B52.40365%2C%2016.95431%5D%2C%20%5B52.40365%2C%2016.95429%5D%2C%20%5B52.40364%2C%2016.95426%5D%2C%20%5B52.40362%2C%2016.95411%5D%2C%20%5B52.40361%2C%2016.95405%5D%2C%20%5B52.40361%2C%2016.95401%5D%2C%20%5B52.40358%2C%2016.95401%5D%2C%20%5B52.40355%2C%2016.95397%5D%2C%20%5B52.40354%2C%2016.95392%5D%2C%20%5B52.40353%2C%2016.95387%5D%2C%20%5B52.40352%2C%2016.9538%5D%2C%20%5B52.40353%2C%2016.95349%5D%2C%20%5B52.40353%2C%2016.95338%5D%2C%20%5B52.40354%2C%2016.9533%5D%2C%20%5B52.40357%2C%2016.95199%5D%2C%20%5B52.40358%2C%2016.95186%5D%2C%20%5B52.40361%2C%2016.95172%5D%2C%20%5B52.40366%2C%2016.9516%5D%2C%20%5B52.40376%2C%2016.95142%5D%2C%20%5B52.40375%2C%2016.95141%5D%2C%20%5B52.40373%2C%2016.95138%5D%2C%20%5B52.4038%2C%2016.95125%5D%2C%20%5B52.40382%2C%2016.9512%5D%2C%20%5B52.40392%2C%2016.95103%5D%2C%20%5B52.40393%2C%2016.95101%5D%2C%20%5B52.40399%2C%2016.9509%5D%2C%20%5B52.40406%2C%2016.95078%5D%2C%20%5B52.40415%2C%2016.95061%5D%2C%20%5B52.40417%2C%2016.95059%5D%2C%20%5B52.40453%2C%2016.94991%5D%2C%20%5B52.40471%2C%2016.9496%5D%2C%20%5B52.40475%2C%2016.94954%5D%2C%20%5B52.4048%2C%2016.94947%5D%2C%20%5B52.40482%2C%2016.94931%5D%2C%20%5B52.40485%2C%2016.94923%5D%2C%20%5B52.40488%2C%2016.94919%5D%2C%20%5B52.40491%2C%2016.94917%5D%2C%20%5B52.40494%2C%2016.94913%5D%2C%20%5B52.40499%2C%2016.94901%5D%2C%20%5B52.40503%2C%2016.94894%5D%2C%20%5B52.40506%2C%2016.94886%5D%2C%20%5B52.40547%2C%2016.94927%5D%2C%20%5B52.40608%2C%2016.94989%5D%2C%20%5B52.40614%2C%2016.94995%5D%5D%2C%0A%20%20%20%20%20%20%20%20%20%20%20%20%20%20%20%20%7B%22bubblingMouseEvents%22%3A%20true%2C%20%22color%22%3A%20%22green%22%2C%20%22dashArray%22%3A%20null%2C%20%22dashOffset%22%3A%20null%2C%20%22fill%22%3A%20false%2C%20%22fillColor%22%3A%20%22green%22%2C%20%22fillOpacity%22%3A%200.2%2C%20%22fillRule%22%3A%20%22evenodd%22%2C%20%22lineCap%22%3A%20%22round%22%2C%20%22lineJoin%22%3A%20%22round%22%2C%20%22noClip%22%3A%20false%2C%20%22opacity%22%3A%200.6%2C%20%22smoothFactor%22%3A%201.0%2C%20%22stroke%22%3A%20true%2C%20%22weight%22%3A%205%7D%0A%20%20%20%20%20%20%20%20%20%20%20%20%29.addTo%28map_48bb96b96748468f832283fbee17be92%29%3B%0A%20%20%20%20%20%20%20%20%0A%3C/script%3E onload=\"this.contentDocument.open();this.contentDocument.write(    decodeURIComponent(this.getAttribute('data-html')));this.contentDocument.close();\" allowfullscreen webkitallowfullscreen mozallowfullscreen></iframe></div></div>"
      ],
      "text/plain": [
       "<folium.folium.Map at 0x20ea7034f10>"
      ]
     },
     "execution_count": 47,
     "metadata": {},
     "output_type": "execute_result"
    }
   ],
   "source": [
    "plot(r.json()['plan'], color = 'green')"
   ]
  },
  {
   "cell_type": "markdown",
   "metadata": {},
   "source": [
    "output"
   ]
  },
  {
   "cell_type": "code",
   "execution_count": 22,
   "metadata": {},
   "outputs": [
    {
     "data": {
      "text/html": [
       "<div>\n",
       "<style scoped>\n",
       "    .dataframe tbody tr th:only-of-type {\n",
       "        vertical-align: middle;\n",
       "    }\n",
       "\n",
       "    .dataframe tbody tr th {\n",
       "        vertical-align: top;\n",
       "    }\n",
       "\n",
       "    .dataframe thead th {\n",
       "        text-align: right;\n",
       "    }\n",
       "</style>\n",
       "<table border=\"1\" class=\"dataframe\">\n",
       "  <thead>\n",
       "    <tr style=\"text-align: right;\">\n",
       "      <th></th>\n",
       "      <th>success</th>\n",
       "      <th>n_itineraries</th>\n",
       "      <th>duration</th>\n",
       "      <th>walkDistance</th>\n",
       "      <th>transfers</th>\n",
       "      <th>transitTime</th>\n",
       "      <th>waitingTime</th>\n",
       "      <th>modes</th>\n",
       "    </tr>\n",
       "    <tr>\n",
       "      <th>id</th>\n",
       "      <th></th>\n",
       "      <th></th>\n",
       "      <th></th>\n",
       "      <th></th>\n",
       "      <th></th>\n",
       "      <th></th>\n",
       "      <th></th>\n",
       "      <th></th>\n",
       "    </tr>\n",
       "  </thead>\n",
       "  <tbody>\n",
       "    <tr>\n",
       "      <th>619</th>\n",
       "      <td>True</td>\n",
       "      <td>3</td>\n",
       "      <td>1089</td>\n",
       "      <td>539.499970</td>\n",
       "      <td>0</td>\n",
       "      <td>623</td>\n",
       "      <td>2</td>\n",
       "      <td>[['WALK', 51, 67], ['TRAM', 623, 2238], ['WALK...</td>\n",
       "    </tr>\n",
       "    <tr>\n",
       "      <th>20</th>\n",
       "      <td>True</td>\n",
       "      <td>3</td>\n",
       "      <td>1063</td>\n",
       "      <td>127.663805</td>\n",
       "      <td>0</td>\n",
       "      <td>936</td>\n",
       "      <td>2</td>\n",
       "      <td>[['WALK', 35, 28], ['TRAM', 936, 3922], ['WALK...</td>\n",
       "    </tr>\n",
       "    <tr>\n",
       "      <th>756</th>\n",
       "      <td>True</td>\n",
       "      <td>3</td>\n",
       "      <td>2021</td>\n",
       "      <td>1163.640707</td>\n",
       "      <td>0</td>\n",
       "      <td>1076</td>\n",
       "      <td>2</td>\n",
       "      <td>[['WALK', 314, 392], ['BUS', 1076, 4792], ['WA...</td>\n",
       "    </tr>\n",
       "    <tr>\n",
       "      <th>926</th>\n",
       "      <td>True</td>\n",
       "      <td>3</td>\n",
       "      <td>1795</td>\n",
       "      <td>797.164368</td>\n",
       "      <td>1</td>\n",
       "      <td>1140</td>\n",
       "      <td>21</td>\n",
       "      <td>[['WALK', 278, 344], ['TRAM', 822, 3694], ['WA...</td>\n",
       "    </tr>\n",
       "    <tr>\n",
       "      <th>502</th>\n",
       "      <td>True</td>\n",
       "      <td>3</td>\n",
       "      <td>1088</td>\n",
       "      <td>871.273308</td>\n",
       "      <td>0</td>\n",
       "      <td>373</td>\n",
       "      <td>2</td>\n",
       "      <td>[['WALK', 295, 356], ['TRAM', 373, 1886], ['WA...</td>\n",
       "    </tr>\n",
       "  </tbody>\n",
       "</table>\n",
       "</div>"
      ],
      "text/plain": [
       "     success  n_itineraries  duration  walkDistance  transfers  transitTime  \\\n",
       "id                                                                            \n",
       "619     True              3      1089    539.499970          0          623   \n",
       "20      True              3      1063    127.663805          0          936   \n",
       "756     True              3      2021   1163.640707          0         1076   \n",
       "926     True              3      1795    797.164368          1         1140   \n",
       "502     True              3      1088    871.273308          0          373   \n",
       "\n",
       "     waitingTime                                              modes  \n",
       "id                                                                   \n",
       "619            2  [['WALK', 51, 67], ['TRAM', 623, 2238], ['WALK...  \n",
       "20             2  [['WALK', 35, 28], ['TRAM', 936, 3922], ['WALK...  \n",
       "756            2  [['WALK', 314, 392], ['BUS', 1076, 4792], ['WA...  \n",
       "926           21  [['WALK', 278, 344], ['TRAM', 822, 3694], ['WA...  \n",
       "502            2  [['WALK', 295, 356], ['TRAM', 373, 1886], ['WA...  "
      ]
     },
     "execution_count": 22,
     "metadata": {},
     "output_type": "execute_result"
    }
   ],
   "source": [
    "pd.read_csv('georequests_PT.csv', index_col=[0]).sample(5)"
   ]
  },
  {
   "cell_type": "markdown",
   "metadata": {},
   "source": [
    "full response"
   ]
  },
  {
   "cell_type": "code",
   "execution_count": 21,
   "metadata": {
    "tags": []
   },
   "outputs": [
    {
     "data": {
      "text/plain": [
       "{'date': '10-29-2020',\n",
       " 'mode': 'TRANSIT,WALK',\n",
       " 'arriveBy': 'false',\n",
       " 'fromPlace': '52.3502454,4.9443192',\n",
       " 'toPlace': '52.3650389,4.8738375',\n",
       " 'time': '03:28pm',\n",
       " 'maxWalkDistance': '2000'}"
      ]
     },
     "execution_count": 21,
     "metadata": {},
     "output_type": "execute_result"
    }
   ],
   "source": [
    "r.json()['requestParameters']"
   ]
  },
  {
   "cell_type": "code",
   "execution_count": null,
   "metadata": {},
   "outputs": [],
   "source": []
  },
  {
   "cell_type": "markdown",
   "metadata": {},
   "source": [
    "---"
   ]
  }
 ],
 "metadata": {
  "kernelspec": {
   "display_name": "Python 3 (ipykernel)",
   "language": "python",
   "name": "python3"
  },
  "language_info": {
   "codemirror_mode": {
    "name": "ipython",
    "version": 3
   },
   "file_extension": ".py",
   "mimetype": "text/x-python",
   "name": "python",
   "nbconvert_exporter": "python",
   "pygments_lexer": "ipython3",
   "version": "3.9.7"
  }
 },
 "nbformat": 4,
 "nbformat_minor": 4
}
